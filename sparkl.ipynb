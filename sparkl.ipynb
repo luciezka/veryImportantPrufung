{
 "cells": [
  {
   "cell_type": "code",
   "execution_count": 1,
   "id": "750c0f7e-89f4-4ddf-b1d8-2e4d6fedc8a6",
   "metadata": {},
   "outputs": [
    {
     "name": "stderr",
     "output_type": "stream",
     "text": [
      "Setting default log level to \"WARN\".\n",
      "To adjust logging level use sc.setLogLevel(newLevel). For SparkR, use setLogLevel(newLevel).\n"
     ]
    },
    {
     "name": "stdout",
     "output_type": "stream",
     "text": [
      "22/12/12 09:30:53 WARN NativeCodeLoader: Unable to load native-hadoop library for your platform... using builtin-java classes where applicable\n"
     ]
    }
   ],
   "source": [
    "#create spark\n",
    "from pyspark.sql import SparkSession\n",
    "from pyspark.sql.functions import *\n",
    "from pyspark import SparkConf, SparkContext\n",
    "\n",
    "#create config \n",
    "\n",
    "config = SparkConf().setAppName(\"MySparkApp\")\n",
    "context = SparkContext(conf=config) \n",
    "\n",
    "# Create SparkSession \n",
    "spark = SparkSession.builder \\\n",
    "      .master(\"local[1]\") \\\n",
    "      .appName(\"Datenbanken mit Spark\") \\\n",
    "      .getOrCreate() # getOrCreate liefert existierende Session wenn es schon eine gibt\n"
   ]
  },
  {
   "cell_type": "code",
   "execution_count": 2,
   "id": "1b39aaaf-7dfb-43f9-b7ea-31e578983184",
   "metadata": {},
   "outputs": [
    {
     "data": {
      "text/html": [
       "\n",
       "            <div>\n",
       "                <p><b>SparkSession - in-memory</b></p>\n",
       "                \n",
       "        <div>\n",
       "            <p><b>SparkContext</b></p>\n",
       "\n",
       "            <p><a href=\"http://localhost:4040\">Spark UI</a></p>\n",
       "\n",
       "            <dl>\n",
       "              <dt>Version</dt>\n",
       "                <dd><code>v3.3.1</code></dd>\n",
       "              <dt>Master</dt>\n",
       "                <dd><code>local[*]</code></dd>\n",
       "              <dt>AppName</dt>\n",
       "                <dd><code>MySparkApp</code></dd>\n",
       "            </dl>\n",
       "        </div>\n",
       "        \n",
       "            </div>\n",
       "        "
      ],
      "text/plain": [
       "<pyspark.sql.session.SparkSession at 0x7f10f5d915d0>"
      ]
     },
     "execution_count": 2,
     "metadata": {},
     "output_type": "execute_result"
    }
   ],
   "source": [
    "#test if spark is running \n",
    "spark"
   ]
  },
  {
   "cell_type": "code",
   "execution_count": 3,
   "id": "ff9b54f6-6e0f-456f-98bc-c55a65df1203",
   "metadata": {},
   "outputs": [
    {
     "name": "stderr",
     "output_type": "stream",
     "text": [
      "                                                                                \r"
     ]
    },
    {
     "name": "stdout",
     "output_type": "stream",
     "text": [
      "+----+----------+--------------------+--------------------+--------------------+-----+----+\n",
      "|name|        id|              member|               group|                role|start| end|\n",
      "+----+----------+--------------------+--------------------+--------------------+-----+----+\n",
      "|null|/m/062vhlh|   Hank Williams III|            Antiseen|                null| null|null|\n",
      "|null|/m/0654bxy|         John Cooper|             Skillet|Lead vocalist,Aco...| 1996|null|\n",
      "|null|/m/05kgt58|     Christoph Kohli|                Span|  Bass guitar,Vocals| null|null|\n",
      "|null|/m/05147hs|     Rodrigo Aravena|         Men at Work|Bass guitar,backi...| 2000|null|\n",
      "|null|/m/05cm2fy|       Vincent Kenis|The Honeymoon Kil...|                null| null|null|\n",
      "|null|/m/05nqgx6|      Derek Lee Rock|    Suburban Legends|                null| null|null|\n",
      "|null|/m/05nqdz6|        Emil Johnson|          Black Flag|                null| null|null|\n",
      "|null|/m/05nnk5v|          Jeff Plate|            Savatage|                null| null|null|\n",
      "|null|/m/05nn7vv|Rowland Charles G...|            Level 42|                null| null|null|\n",
      "|null|/m/05nn6cy|         Neil Citron|          Quiet Riot|                null| null|null|\n",
      "|null|/m/05nn2gn|        David Vanian|          The Damned|                null| null|null|\n",
      "|null|/m/063f0s1|         Jay Pollard|            Atlantic|              Guitar| 2000|2003|\n",
      "|null|/m/05t1xvj|       Gavin Skinner|         Julian Cope|            Drum kit| null|null|\n",
      "|null|/m/04xwczh|   Sérgio Pencarinha|          Cinemuerte|            Drum kit| 2008|null|\n",
      "|null|/m/05t64d1|  Dean De Benedictis|             Brand X|                null| null|null|\n",
      "+----+----------+--------------------+--------------------+--------------------+-----+----+\n",
      "\n"
     ]
    }
   ],
   "source": [
    "    ## tsv to dataFrame , for csv remove sep t , header option puts first line into header##\n",
    "df= spark.read.option(\"sep\",\"\\t\").csv('bands.tsv',header=True, inferSchema=True)\n",
    "df.show()"
   ]
  },
  {
   "cell_type": "code",
   "execution_count": 6,
   "id": "1ae5c896-6e41-4d01-ba6e-c92992a95b83",
   "metadata": {},
   "outputs": [
    {
     "name": "stdout",
     "output_type": "stream",
     "text": [
      "+----+----+---+-----+----+-----+---+---+-----+----+-----+---+\n",
      "|Name|Name| id|group|role|start|end| id|group|role|start|end|\n",
      "+----+----+---+-----+----+-----+---+---+-----+----+-----+---+\n",
      "+----+----+---+-----+----+-----+---+---+-----+----+-----+---+\n",
      "\n"
     ]
    }
   ],
   "source": [
    "    ## merge df and df2 and clean\n",
    "\n",
    "    ##prepare data##\n",
    "df2= spark.read.option(\"sep\",\"\\t\").csv('bands2.tsv',header=True, inferSchema=True)\n",
    "\n",
    "\n",
    "    # union by name so it doesnt depend on position# \n",
    "#output= df.unionByName(df2, allowMissingColumns=True).dropDuplicates()\n",
    "\n",
    "    #clean data of nulls\n",
    "output = output.fillna(0)\n",
    "output = output.na.fill(\"\")\n",
    "output = output.drop(\"name\").withColumnRenamed(\"member\",\"Name\")\n",
    "output.show()"
   ]
  },
  {
   "cell_type": "code",
   "execution_count": null,
   "id": "4da86fab-16cf-4b64-b2ee-43d9a4dbe267",
   "metadata": {},
   "outputs": [],
   "source": [
    "    # join to merge data for dependencies\n",
    "output= df.join(df2,how=\"inner\")\n",
    "output = df.join(df2, on=['member','member']) "
   ]
  },
  {
   "cell_type": "code",
   "execution_count": null,
   "id": "d18a2f78-8b2f-447e-b211-c9b275fb5d9e",
   "metadata": {},
   "outputs": [],
   "source": [
    "    ##write dataframe to file with tab  ##\n",
    "output.write.option(\"header\",True).option(\"delimiter\",\"\\t\").csv(\"output/\")"
   ]
  },
  {
   "cell_type": "code",
   "execution_count": 5,
   "id": "a5c97358-9ce4-4582-8fee-2b8fc52e202a",
   "metadata": {},
   "outputs": [
    {
     "name": "stdout",
     "output_type": "stream",
     "text": [
      "+----------+--------------------+--------------------+--------------------+-----+----+-----------+\n",
      "|        id|                Name|               group|                role|start| end|im Number 5|\n",
      "+----------+--------------------+--------------------+--------------------+-----+----+-----------+\n",
      "|/m/05nnk5v|          Jeff Plate|            Savatage|                    |     |    |          5|\n",
      "|/m/04xwczh|   Sérgio Pencarinha|          Cinemuerte|            Drum kit| 2008|    |          5|\n",
      "|/m/05nqdz6|        Emil Johnson|          Black Flag|                    |     |    |          5|\n",
      "|/m/05kgt58|     Christoph Kohli|                Span|  Bass guitar,Vocals|     |    |          5|\n",
      "|/m/05nn6cy|         Neil Citron|          Quiet Riot|                    |     |    |          5|\n",
      "|/m/05nn7vv|Rowland Charles G...|            Level 42|                    |     |    |          5|\n",
      "|/m/05nqgx6|      Derek Lee Rock|    Suburban Legends|                    |     |    |          5|\n",
      "|/m/0654bxy|         John Cooper|             Skillet|Lead vocalist,Aco...| 1996|    |          5|\n",
      "|/m/05t64d1|  Dean De Benedictis|             Brand X|                    |     |    |          5|\n",
      "|/m/063f0s1|         Jay Pollard|            Atlantic|              Guitar| 2000|2003|          5|\n",
      "|/m/05nn2gn|        David Vanian|          The Damned|                    |     |    |          5|\n",
      "|/m/062vhlh|   Hank Williams III|            Antiseen|                    |     |    |          5|\n",
      "|/m/05t1xvj|       Gavin Skinner|         Julian Cope|            Drum kit|     |    |          5|\n",
      "|/m/05147hs|     Rodrigo Aravena|         Men at Work|Bass guitar,backi...| 2000|    |          5|\n",
      "|/m/05cm2fy|       Vincent Kenis|The Honeymoon Kil...|                    |     |    |          5|\n",
      "|/m/099vhlh|          Bill Gates|            MiauMiau|                    |     |    |          5|\n",
      "+----------+--------------------+--------------------+--------------------+-----+----+-----------+\n",
      "\n"
     ]
    }
   ],
   "source": [
    "    #ADD COLUMN with data\n",
    "output.withColumn(\"im Number 5\", lit(5)).show()"
   ]
  },
  {
   "cell_type": "code",
   "execution_count": null,
   "id": "9d31d251-506e-47c8-946f-07fab22feb59",
   "metadata": {},
   "outputs": [],
   "source": [
    "    ## SPARK READ FILES AND USE SOME SQL Basics##\n",
    "    #read local file\n",
    "textFile = spark.read.text(\"new.txt\")\n",
    "\n",
    "    # EXAMPLE GET MAX AMOUNT OF WORDS IN maxWords or in ONE LINE output #\n",
    "maxWords=textFile.select(size(split(textFile.value, \"\\s+\")).name(\"numWords\")).agg(max(col(\"numWords\")))\n",
    "textFile.select(size(split(textFile.value, \"\\s+\")).name(\"numWords\")).agg(max(col(\"numWords\"))).show(100,False)\n",
    "\n",
    "\n",
    "## some interesting prompts for SQL\n",
    "#\n",
    "#\n",
    "#x = {\n",
    "#  size() counts the stuff inside\n",
    "#  split(input,seperators) splits text at seperator\n",
    "#  name(\"ColumName\") rename colum\n",
    "#  max()\n",
    "#  min()\n",
    "#  avg()\n",
    "#  countDistinct()\n",
    "#}\n",
    "# .select([x])\n",
    "# .agg(x) can be used to further use aggregations \n",
    "# .distinct(x)\n",
    "# .collect() puts table into one line \n",
    "# .withColumnRenamed(from,to)"
   ]
  },
  {
   "cell_type": "code",
   "execution_count": null,
   "id": "31104b04-9ce6-4ca7-9c8e-63f3ae47a453",
   "metadata": {},
   "outputs": [],
   "source": [
    "    ## EXAMPLE GET SINGLE WORDS FROM FILE\n",
    "dfText = spark.read.text(\"frankenstein.txt\")\n",
    "\n",
    "df = dfText.select(split(dfText.value,\"[^a-zA-Z]\").alias(\"word\"))\n",
    "df = df.select(explode(col(\"word\")).alias(\"word\"))\n",
    "df = df.select(lower(col(\"word\")).alias(\"word\"))\n",
    "df = df.select(regexp_extract(col(\"word\"),\"[a-z]{2,}|a|i\",0).alias(\"word\"))\n",
    "df.show(50,False)"
   ]
  }
 ],
 "metadata": {
  "kernelspec": {
   "display_name": "Python 3 (ipykernel)",
   "language": "python",
   "name": "python3"
  },
  "language_info": {
   "codemirror_mode": {
    "name": "ipython",
    "version": 3
   },
   "file_extension": ".py",
   "mimetype": "text/x-python",
   "name": "python",
   "nbconvert_exporter": "python",
   "pygments_lexer": "ipython3",
   "version": "3.10.8"
  }
 },
 "nbformat": 4,
 "nbformat_minor": 5
}
