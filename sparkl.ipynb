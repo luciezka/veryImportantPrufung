{
 "cells": [
  {
   "cell_type": "code",
   "execution_count": null,
   "id": "750c0f7e-89f4-4ddf-b1d8-2e4d6fedc8a6",
   "metadata": {},
   "outputs": [],
   "source": [
    "#create spark\n",
    "from pyspark.sql import SparkSession\n",
    "from pyspark.sql.functions import *\n",
    "from pyspark import SparkConf, SparkContext\n",
    "\n",
    "#create config \n",
    "\n",
    "config = SparkConf().setAppName(\"MySparkApp\")\n",
    "context = SparkContext(conf=config) \n",
    "\n",
    "# Create SparkSession \n",
    "spark = SparkSession.builder \\\n",
    "      .master(\"local[1]\") \\\n",
    "      .appName(\"Datenbanken mit Spark\") \\\n",
    "      .getOrCreate() # getOrCreate liefert existierende Session wenn es schon eine gibt\n"
   ]
  },
  {
   "cell_type": "code",
   "execution_count": null,
   "id": "1b39aaaf-7dfb-43f9-b7ea-31e578983184",
   "metadata": {},
   "outputs": [],
   "source": [
    "#test if spark is running \n",
    "spark"
   ]
  },
  {
   "cell_type": "code",
   "execution_count": null,
   "id": "ff9b54f6-6e0f-456f-98bc-c55a65df1203",
   "metadata": {},
   "outputs": [],
   "source": [
    "## tsv to dataFrame , for csv remove sep t , header option puts first line into header##\n",
    "df= spark.read.option(\"sep\",\"\\t\").csv('bands.tsv',header=True, inferSchema=True)\n",
    "df.show()"
   ]
  },
  {
   "cell_type": "code",
   "execution_count": null,
   "id": "1ae5c896-6e41-4d01-ba6e-c92992a95b83",
   "metadata": {},
   "outputs": [],
   "source": [
    "## merge df and df2\n",
    "##prepare data##\n",
    "df2= spark.read.option(\"sep\",\"\\t\").csv('bands2.tsv',header=True, inferSchema=True)\n",
    "# union by name so it doesnt depend on position# \n",
    "output= df.unionByName(df2, allowMissingColumns=True).dropDuplicates()\n",
    "#clean data of nulls\n",
    "output = output.fillna(0)\n",
    "output = output.na.fill(\"\")\n",
    "output = output.drop(\"name\").withColumnRenamed(\"member\",\"Name\")\n",
    "output.show()"
   ]
  },
  {
   "cell_type": "code",
   "execution_count": null,
   "id": "d18a2f78-8b2f-447e-b211-c9b275fb5d9e",
   "metadata": {},
   "outputs": [],
   "source": [
    "##write dataframe to file with tab  ##\n",
    "output.write.option(\"header\",True).option(\"delimiter\",\"\\t\").csv()"
   ]
  },
  {
   "cell_type": "code",
   "execution_count": null,
   "id": "a5c97358-9ce4-4582-8fee-2b8fc52e202a",
   "metadata": {},
   "outputs": [],
   "source": [
    "output"
   ]
  },
  {
   "cell_type": "code",
   "execution_count": null,
   "id": "9d31d251-506e-47c8-946f-07fab22feb59",
   "metadata": {},
   "outputs": [],
   "source": [
    "## SPARK READ FILES AND USE SOME SQL Basics##\n",
    "    #read local file\n",
    "textFile = spark.read.text(\"new.txt\")\n",
    "\n",
    "# EXAMPLE GET MAX AMOUNT OF WORDS IN maxWords or in ONE LINE output #\n",
    "maxWords=textFile.select(size(split(textFile.value, \"\\s+\")).name(\"numWords\")).agg(max(col(\"numWords\")))\n",
    "textFile.select(size(split(textFile.value, \"\\s+\")).name(\"numWords\")).agg(max(col(\"numWords\"))).show(100,False)\n",
    "\n",
    "\n",
    "## some interesting prompts for SQL\n",
    "#\n",
    "#\n",
    "#x = {\n",
    "#  size() counts the stuff inside\n",
    "#  split(input,seperators) splits text at seperator\n",
    "#  name(\"ColumName\") rename colum\n",
    "#  max()\n",
    "#  min()\n",
    "#  avg()\n",
    "#  countDistinct()\n",
    "#}\n",
    "# .select([x])\n",
    "# .agg(x) can be used to further use aggregations \n",
    "# .distinct(x)\n",
    "# .collect() puts table into one line \n",
    "# .withColumnRenamed(from,to)"
   ]
  }
 ],
 "metadata": {
  "kernelspec": {
   "display_name": "Python 3 (ipykernel)",
   "language": "python",
   "name": "python3"
  },
  "language_info": {
   "codemirror_mode": {
    "name": "ipython",
    "version": 3
   },
   "file_extension": ".py",
   "mimetype": "text/x-python",
   "name": "python",
   "nbconvert_exporter": "python",
   "pygments_lexer": "ipython3",
   "version": "3.10.8"
  }
 },
 "nbformat": 4,
 "nbformat_minor": 5
}
