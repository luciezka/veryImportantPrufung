{
 "cells": [
  {
   "cell_type": "code",
   "execution_count": null,
   "id": "dc9934d3-63dd-45cf-bedb-95cc421d500c",
   "metadata": {},
   "outputs": [],
   "source": [
    "import redis\n",
    "import json\n",
    "import csv\n",
    "# Create a Redis client\n",
    "r = redis.Redis(host='localhost', port=6379, db=0)\n"
   ]
  },
  {
   "cell_type": "code",
   "execution_count": null,
   "id": "1bfa4b48-55d5-4674-84ac-74550968e5dc",
   "metadata": {},
   "outputs": [],
   "source": [
    "## simple set##\n",
    "r.set('ping','pong')\n",
    "r.get('ping')"
   ]
  },
  {
   "cell_type": "code",
   "execution_count": null,
   "id": "d9f2d0d7-300e-4bcb-a040-e5aab5185960",
   "metadata": {},
   "outputs": [],
   "source": [
    "## import memeber data from csv##\n",
    "## READ CSV DATA ##\n",
    "with open('./bands.tsv', newline='\\n') as csvfile:\n",
    "    # delimiter='\\t' only if using TSV files#\n",
    "    data = csv.reader(csvfile,delimiter='\\t')\n",
    "    ##SKIP TOP ROW CUZ THERE IS NOTHING OF VALUE#\n",
    "    next(data)\n",
    "    \n",
    "    ## PUT DATA INTO REDIS ##   \n",
    "    for row in data:\n",
    "        key = row[1]\n",
    "        value =  \"member: \" + row[2] + \", group: \" + row[3] + \", role: \" + row[4] + \", start: \" + row[5] + \", end:\" + row[6]\n",
    "        print(key)\n",
    "        print(value)\n",
    "        r.sadd(key, value)\n",
    " \n",
    "\n",
    "newvalue = r.smembers('/m/05nqdz6')\n",
    "print(\"newvalue\")\n"
   ]
  },
  {
   "cell_type": "code",
   "execution_count": null,
   "id": "4f515ccb-3783-474b-8e9b-d61f8b3b6739",
   "metadata": {},
   "outputs": [],
   "source": [
    "##INSERT WITH JSON ##\n",
    "\n",
    "# create JSON Data\n",
    "dataset_json = '{\"id\": 1, \"text\": \"Hello\", \"number\":20}'\n",
    "\n",
    "#convert JSON to HASH\n",
    "dataset = json.loads(dataset_json)\n",
    "\n",
    "# in loop parse data into myhash\n",
    "for key, value in dataset.items():\n",
    "    r.hset('myhash',key,value)\n",
    "\n",
    "# get all data in hash\n",
    "value = r.hgetall('myhash')\n",
    "\n",
    "# print the selected items\n",
    "print(value)"
   ]
  },
  {
   "cell_type": "code",
   "execution_count": null,
   "id": "30088ba0-c5d6-4c65-bbe3-5205c051db44",
   "metadata": {},
   "outputs": [],
   "source": [
    "## USING Hash to insert data##\n",
    "\n",
    "## SIMPLE INSERT WITH OBJECT// Dictionary ##\n",
    "dataset_dict = {\"id\": 'w1', \"text\": \"Hello\", \"number\":20}\n",
    "\n",
    "# in loop parse data into myhash\n",
    "for key, value in dataset_dict.items():\n",
    "    r.hset('coolKey',key,value)\n",
    "\n",
    "    \n",
    "# get all data in hash\n",
    "value = r.hgetall('coolKey')\n",
    "print(value)"
   ]
  },
  {
   "cell_type": "code",
   "execution_count": null,
   "id": "2077a910-8fd3-4fb1-817b-5e47be0ec485",
   "metadata": {},
   "outputs": [],
   "source": [
    "#get all keys#\n",
    "for key in r.keys():\n",
    "    print(key)"
   ]
  },
  {
   "cell_type": "code",
   "execution_count": null,
   "id": "e4f03e88-a1f8-4a15-b4d7-4a43956d0f3d",
   "metadata": {},
   "outputs": [],
   "source": [
    "## SIMPLE DELETE ##\n",
    "r.delete('key')\n"
   ]
  },
  {
   "cell_type": "code",
   "execution_count": null,
   "id": "58135b1b-6d5f-4a59-99ab-3205e3afd4ff",
   "metadata": {},
   "outputs": [],
   "source": [
    "#delete db#\n",
    "r.flushall()"
   ]
  }
 ],
 "metadata": {
  "kernelspec": {
   "display_name": "Python 3 (ipykernel)",
   "language": "python",
   "name": "python3"
  },
  "language_info": {
   "codemirror_mode": {
    "name": "ipython",
    "version": 3
   },
   "file_extension": ".py",
   "mimetype": "text/x-python",
   "name": "python",
   "nbconvert_exporter": "python",
   "pygments_lexer": "ipython3",
   "version": "3.10.8"
  }
 },
 "nbformat": 4,
 "nbformat_minor": 5
}
