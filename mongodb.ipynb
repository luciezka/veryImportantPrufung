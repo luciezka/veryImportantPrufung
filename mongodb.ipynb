{
 "cells": [
  {
   "cell_type": "code",
   "execution_count": 13,
   "id": "8d714e94-4494-423a-9b01-278f3f444f0f",
   "metadata": {},
   "outputs": [],
   "source": [
    "##Connect to Mongo\n",
    "from pymongo import MongoClient\n",
    "client = MongoClient('mongodb://localhost:27017/')\n",
    "\n",
    "# Use the 'testSchema' database\n",
    "db = client['testSchema']\n",
    "coll = db['testTable']\n",
    "\n"
   ]
  },
  {
   "cell_type": "code",
   "execution_count": 4,
   "id": "bcf307a6-e761-49a6-8108-4089392f6a98",
   "metadata": {},
   "outputs": [
    {
     "data": {
      "text/plain": [
       "<pymongo.results.InsertManyResult at 0x7fde16db0460>"
      ]
     },
     "execution_count": 4,
     "metadata": {},
     "output_type": "execute_result"
    }
   ],
   "source": [
    "# Insert a string into the 'testtable' collection\n",
    "coll.insert_one({'Test': 'Hello, World!'})\n",
    "# insert many for bigger data like JSON \n",
    "newArray = [{'Test2':'heins'},{'Ping':'Pong'}]\n",
    "coll.insert_many(newArray)"
   ]
  },
  {
   "cell_type": "code",
   "execution_count": 12,
   "id": "ec47354c-47a1-4c62-94e6-176c0cffe237",
   "metadata": {},
   "outputs": [
    {
     "name": "stdout",
     "output_type": "stream",
     "text": [
      "{'_id': ObjectId('639724fa37a9290486d58e63'), 'Test2': 'heins'}\n"
     ]
    }
   ],
   "source": [
    "# Find all documents in the 'names' collection where the 'name' field starts with 'heins'\n",
    "results = coll.find({'Test2': {'$regex': 'heins'}})\n",
    "\n",
    "for result in results:\n",
    "  print(result)"
   ]
  },
  {
   "cell_type": "code",
   "execution_count": null,
   "id": "e666f84a-39b6-4636-8b59-02165e741509",
   "metadata": {},
   "outputs": [],
   "source": [
    "## Pipeline with aggregate\n",
    "\n",
    "# Define the pipeline for the aggregate function\n",
    "pipeline = [\n",
    "    #Match where the redion is East\n",
    "  {'$match': {'region': 'East'}},\n",
    "    # Group the documents by the 'region' field\n",
    "  {'$group': {\n",
    "    '_id': '$region',\n",
    "    # Calculate the total 'sales' for each region\n",
    "    'total_sales': {'$sum': '$sales'}\n",
    "  }},\n",
    "  # Sort the results by total_sales in descending order\n",
    "  {'$sort': {'total_sales': -1}}\n",
    "]\n",
    "\n",
    "# Apply the aggregate function with the pipeline\n",
    "results = coll.aggregate(pipeline)\n",
    "\n",
    "# Print the results\n",
    "for result in results:\n",
    "  print(result)"
   ]
  },
  {
   "cell_type": "code",
   "execution_count": null,
   "id": "706f0347-79a4-4684-9f5b-1f29ccecf11e",
   "metadata": {},
   "outputs": [],
   "source": [
    "# Use the update() method to add a new item to the \"items\" array in the document with the ID of \"123\"\n",
    "result = coll.update(\n",
    "    {\"_id\": \"123\"},\n",
    "    {\"$push\": {\"items\": \"new_item\"}}\n",
    ")"
   ]
  },
  {
   "cell_type": "code",
   "execution_count": null,
   "id": "c49a5ec5-d193-42a0-acef-abc8ecee2121",
   "metadata": {},
   "outputs": [],
   "source": [
    "results = collection.find({\"year\": {\"$gt\": 9999}})\n",
    "# Loop through the results and update each document to only include the first 4 digits of the year\n",
    "for result in results:\n",
    "    ##Cut off year if longer then 4 digits\n",
    "    updated_year = int(str(result[\"year\"])[:4])\n",
    "    ## update collection\n",
    "    collection.update_many({\"_id\": result[\"_id\"]}, {\"$set\": {\"year\": updated_year}})"
   ]
  }
 ],
 "metadata": {
  "kernelspec": {
   "display_name": "Python 3 (ipykernel)",
   "language": "python",
   "name": "python3"
  },
  "language_info": {
   "codemirror_mode": {
    "name": "ipython",
    "version": 3
   },
   "file_extension": ".py",
   "mimetype": "text/x-python",
   "name": "python",
   "nbconvert_exporter": "python",
   "pygments_lexer": "ipython3",
   "version": "3.10.8"
  }
 },
 "nbformat": 4,
 "nbformat_minor": 5
}
